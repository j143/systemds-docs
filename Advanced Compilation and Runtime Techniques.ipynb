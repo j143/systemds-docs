{
 "cells": [
  {
   "cell_type": "markdown",
   "metadata": {},
   "source": [
    "# Advanced Compilation Techniques"
   ]
  },
  {
   "cell_type": "markdown",
   "metadata": {},
   "source": [
    "<p>This notebook demonstrates selected advanced language features and compilation techniques, including</p>\n",
    "1. Parfor: Parallel for loops for task-parallel computation (language, compiler, and runtime)\n",
    "2. Codegen: Code generation for operator fusion (compiler/runtime)"
   ]
  },
  {
   "cell_type": "code",
   "execution_count": null,
   "metadata": {},
   "outputs": [],
   "source": [
    "from systemml import MLContext, dml, dmlFromResource, jvm_stdout\n",
    "\n",
    "ml = MLContext(sc)\n",
    "ml.setStatistics(True)\n",
    "\n",
    "print \"Spark Version:\", sc.version\n",
    "print \"SystemML Version:\", ml.version()\n",
    "print \"SystemML Built-Time:\", ml.buildTime()"
   ]
  },
  {
   "cell_type": "markdown",
   "metadata": {},
   "source": [
    "## 1 Parfor: Parallel For Loops for Task-Parallel Computation \n",
    "\n",
    "<p>Parfor loops allow for arbitrary task-parallel computation, which requires independence of iterations, i.e., the absence of loop-carried dependencies on result variables.</p>"
   ]
  },
  {
   "cell_type": "markdown",
   "metadata": {},
   "source": [
    "### A Simple Example of Univariate Descriptive Statistics\n",
    "\n",
    "<p>Compute column-wise mean, standard deviation, skewnes, and kurtosis.</p> "
   ]
  },
  {
   "cell_type": "markdown",
   "metadata": {},
   "source": [
    "<p>a) Small data scenario (local parfor)</p>"
   ]
  },
  {
   "cell_type": "code",
   "execution_count": null,
   "metadata": {},
   "outputs": [],
   "source": [
    "prog = \"\"\"\n",
    "X = rand(rows=10000, cols=100);\n",
    "R = matrix(0, ncol(X), 4)\n",
    "parfor(i in 1:ncol(X)) {\n",
    "   Xi = X[,i];\n",
    "   R[i,1] = mean(Xi);                  # mean\n",
    "   R[i,2] = sqrt(var(Xi));             # standard deviation\n",
    "   R[i,3] = moment(Xi,3)/(R[i,2]^3);   # skewness\n",
    "   R[i,4] = moment(Xi,4)/(R[i,2]^4)-3; # kurtosis\n",
    "}\n",
    "\"\"\"\n",
    "with jvm_stdout():\n",
    "    R = ml.execute(dml(prog).output(\"R\")).get(\"R\")\n",
    "R.toNumPy()[1:4]"
   ]
  },
  {
   "cell_type": "markdown",
   "metadata": {},
   "source": [
    "<p>b) ParFor EXPLAIN: Understanding task-parallel execution plans and optimizer choices.</p> "
   ]
  },
  {
   "cell_type": "code",
   "execution_count": null,
   "metadata": {},
   "outputs": [],
   "source": [
    "prog = \"\"\"\n",
    "X = rand(rows=10000, cols=100);\n",
    "R = matrix(0, ncol(X), 4)\n",
    "parfor(i in 1:ncol(X), log=DEBUG) {\n",
    "   Xi = X[,i];\n",
    "   R[i,1] = mean(Xi);                  # mean\n",
    "   R[i,2] = sqrt(var(Xi));             # standard deviation\n",
    "   R[i,3] = moment(Xi,3)/(R[i,2]^3);   # skewness\n",
    "   R[i,4] = moment(Xi,4)/(R[i,2]^4)-3; # kurtosis\n",
    "}\n",
    "\"\"\"\n",
    "with jvm_stdout():\n",
    "    R = ml.execute(dml(prog).output(\"R\")).get(\"R\")\n",
    "R.toNumPy()[1:4]"
   ]
  },
  {
   "cell_type": "markdown",
   "metadata": {},
   "source": [
    "<p>c) Medium-sized data scenario (remote_spark parfor w/ and w/o fused data partitioning)</p>"
   ]
  },
  {
   "cell_type": "code",
   "execution_count": null,
   "metadata": {},
   "outputs": [],
   "source": [
    "prog = \"\"\"\n",
    "X = rand(rows=100000, cols=100);\n",
    "R = matrix(0, ncol(X), 4)\n",
    "parfor(i in 1:ncol(X), log=DEBUG) {\n",
    "   Xi = X[,i];\n",
    "   R[i,1] = mean(Xi);                  # mean\n",
    "   R[i,2] = sqrt(var(Xi));             # standard deviation\n",
    "   R[i,3] = moment(Xi,3)/(R[i,2]^3);   # skewness\n",
    "   R[i,4] = moment(Xi,4)/(R[i,2]^4)-3; # kurtosis\n",
    "}\n",
    "\"\"\"\n",
    "\n",
    "with jvm_stdout():\n",
    "    R = ml.execute(dml(prog).output(\"R\")).get(\"R\")\n",
    "R.toNumPy()[1:4]"
   ]
  },
  {
   "cell_type": "markdown",
   "metadata": {},
   "source": [
    "### An Example of Bivariate Descriptive Statistics w/ Nested Parallelism\n",
    "<p>Compute the chi-square test statistic for all pairs of categorical columns.</p> "
   ]
  },
  {
   "cell_type": "code",
   "execution_count": null,
   "metadata": {},
   "outputs": [],
   "source": [
    "prog = \"\"\"\n",
    "D = 20;\n",
    "X = rand(rows=10000, cols=100, min=D, max=D+1);\n",
    "R = matrix(0, ncol(X), ncol(X));\n",
    "\n",
    "parfor(i in 1:(ncol(X)-1), log=DEBUG) {\n",
    "  parfor(j in (i+1):ncol(X)) {\n",
    "    # Chi-Squared\n",
    "    F = table(X[,i], X[,j], D, D);\n",
    "    W = sum(F);\n",
    "    r = rowSums(F);\n",
    "    c = colSums(F);\n",
    "    E = (r %*% c) / W;\n",
    "    T = (F-E)^2 / E;\n",
    "    R[i,j] = sum(T);\n",
    "  }\n",
    "}\n",
    "\"\"\"\n",
    "\n",
    "with jvm_stdout():\n",
    "    R = ml.execute(dml(prog).output(\"R\")).get(\"R\")\n",
    "R.toNumPy()[1:4]"
   ]
  },
  {
   "cell_type": "markdown",
   "metadata": {},
   "source": [
    "## 2 Codegen: Code Generation for operator fusion\n",
    "\n",
    "<p>SystemML's code generator identifies and optimizes fusion plans and generates efficient java source code for these fused operators via Janino.</p>\n",
    "<p>Fusion opportunities are ubiquitous and help to avoid materialized intermediates, reduce the number of scans, and exploit sparsity across chains of operations.</p>"
   ]
  },
  {
   "cell_type": "code",
   "execution_count": null,
   "metadata": {},
   "outputs": [],
   "source": [
    "ml.setConfigProperty(\"optlevel\", \"1\")           #disable rewrites (demo only)\n",
    "ml.setConfigProperty(\"codegen.enabled\", \"true\") #enable codegen"
   ]
  },
  {
   "cell_type": "markdown",
   "metadata": {},
   "source": [
    "### Simple Example Expressions using Different Templates  "
   ]
  },
  {
   "cell_type": "markdown",
   "metadata": {},
   "source": [
    "<p>a) Cell-wise templates w/ aggregation</p>"
   ]
  },
  {
   "cell_type": "code",
   "execution_count": null,
   "metadata": {},
   "outputs": [],
   "source": [
    "prog = \"\"\"\n",
    "X = rand(rows=10000, cols=1);\n",
    "Y = rand(rows=10000, cols=1)\n",
    "Z = rand(rows=10000, cols=1)\n",
    "R = sum(X * Y * Z)\n",
    "\"\"\"\n",
    "\n",
    "ml.setExplain(True)\n",
    "with jvm_stdout():\n",
    "    R = ml.execute(dml(prog).output(\"R\")).get(\"R\")\n",
    "R"
   ]
  },
  {
   "cell_type": "markdown",
   "metadata": {},
   "source": [
    "<p>b) Row-wise template w/ aggregation</p>"
   ]
  },
  {
   "cell_type": "code",
   "execution_count": null,
   "metadata": {},
   "outputs": [],
   "source": [
    "prog = \"\"\"\n",
    "X = rand(rows=10000, cols=10);\n",
    "v = rand(rows=10, cols=3);\n",
    "P = rand(rows=10000, cols=4);\n",
    "K = 3;\n",
    "\n",
    "Q = P[,1:K] * (X %*% v);\n",
    "R = t(X) %*% (Q - P[,1:K] * rowSums(Q));\n",
    "\"\"\"\n",
    "\n",
    "ml.setExplain(True)\n",
    "with jvm_stdout():\n",
    "    R = ml.execute(dml(prog).output(\"R\")).get(\"R\")\n",
    "R"
   ]
  },
  {
   "cell_type": "markdown",
   "metadata": {},
   "source": [
    "<p>c) Multi-aggregate template</p>"
   ]
  },
  {
   "cell_type": "code",
   "execution_count": null,
   "metadata": {},
   "outputs": [],
   "source": [
    "prog = \"\"\"\n",
    "X = rand(rows=10000, cols=1);\n",
    "Y = rand(rows=10000, cols=1);\n",
    "\n",
    "R1 = sum(X^2);\n",
    "R2 = sum(X*Y);\n",
    "R3 = sum(Y^2);\n",
    "\"\"\"\n",
    "\n",
    "ml.setExplain(True)\n",
    "with jvm_stdout():\n",
    "    R1 = ml.execute(dml(prog).output(\"R1\",\"R2\",\"R3\")).get(\"R1\")\n",
    "R1"
   ]
  },
  {
   "cell_type": "markdown",
   "metadata": {
    "collapsed": true
   },
   "source": [
    "<p>d) Outer-product template</p>"
   ]
  },
  {
   "cell_type": "code",
   "execution_count": null,
   "metadata": {},
   "outputs": [],
   "source": [
    "prog = \"\"\"\n",
    "W = rand(rows=10000, cols=10000, sparsity=0.1);\n",
    "S = rand(rows=10000, cols=10);\n",
    "V = rand(rows=10000, cols=10);\n",
    "RNZ = rand(rows=10000, cols=1);\n",
    "\n",
    "R = (W * (S %*% t(V))) %*% V + 1e-6 * S * RNZ;\n",
    "\"\"\"\n",
    "\n",
    "ml.setExplain(True)\n",
    "with jvm_stdout():\n",
    "    R = ml.execute(dml(prog).output(\"R\")).get(\"R\")\n",
    "R.toNumPy()[1:4]"
   ]
  },
  {
   "cell_type": "markdown",
   "metadata": {},
   "source": [
    "### An End-to-End Algorithm: L2SVM"
   ]
  },
  {
   "cell_type": "markdown",
   "metadata": {
    "collapsed": true
   },
   "source": [
    "<p>L2SVM without codegen:</p>"
   ]
  },
  {
   "cell_type": "code",
   "execution_count": null,
   "metadata": {},
   "outputs": [],
   "source": [
    "#ml.setConfigProperty(\"optlevel\", \"2\")            #disable rewrites (demo only)\n",
    "#ml.setConfigProperty(\"codegen.enabled\", \"false\") #enable codegen\n",
    "\n",
    "ml.setStatistics(True)\n",
    "\n",
    "dmlscript = dmlFromResource(\"/scripts/algorithms/l2-svm.dml\").input(\n",
    "'$X','data/higgs_features').input('$Y','data/higgs_labels').input(\n",
    "'$Log', 'log/out.log').input('icpt',\"0\").input('$tol','1e-14').input(\n",
    "'$reg','1e-3').input('$maxiter','50').output(\"w\")\n",
    "\n",
    "with jvm_stdout():\n",
    "    beta = ml.execute(dmlscript).get(\"w\")\n",
    "beta.toNumPy()"
   ]
  },
  {
   "cell_type": "markdown",
   "metadata": {
    "collapsed": true
   },
   "source": [
    "<p>L2SVM with codegen:</p>"
   ]
  },
  {
   "cell_type": "code",
   "execution_count": null,
   "metadata": {},
   "outputs": [],
   "source": [
    "#ml.setConfigProperty(\"optlevel\", \"1\")            #disable rewrites (demo only)\n",
    "#ml.setConfigProperty(\"codegen.enabled\", \"true\") #enable codegen\n",
    "\n",
    "ml.setStatistics(True)\n",
    "\n",
    "dmlscript = dmlFromResource(\"/scripts/algorithms/l2-svm.dml\").input(\n",
    "'$X','data/higgs_features').input('$Y','data/higgs_labels').input(\n",
    "'$Log', 'log/out.log').input('icpt',\"0\").input('$tol','1e-14').input(\n",
    "'$reg','1e-3').input('$maxiter','50').output(\"w\")\n",
    "\n",
    "with jvm_stdout():\n",
    "    beta = ml.execute(dmlscript).get(\"w\")\n",
    "beta.toNumPy()"
   ]
  },
  {
   "cell_type": "code",
   "execution_count": null,
   "metadata": {
    "collapsed": true
   },
   "outputs": [],
   "source": []
  }
 ],
 "metadata": {
  "anaconda-cloud": {},
  "kernelspec": {
   "display_name": "Python 3",
   "language": "python",
   "name": "python3"
  },
  "language_info": {
   "codemirror_mode": {
    "name": "ipython",
    "version": 3
   },
   "file_extension": ".py",
   "mimetype": "text/x-python",
   "name": "python",
   "nbconvert_exporter": "python",
   "pygments_lexer": "ipython3",
   "version": "3.8.2"
  }
 },
 "nbformat": 4,
 "nbformat_minor": 1
}
