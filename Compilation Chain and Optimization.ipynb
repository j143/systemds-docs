{
 "cells": [
  {
   "cell_type": "markdown",
   "metadata": {},
   "source": [
    "\n",
    "* [SystemML Compilation Chain](#SystemMLCompilationChain)\n",
    "* [Basic HOP DAG Compilation](#BasicHOPDAGCompilation)\n",
    "* [Static and Dynamic Rewrites](#StaticandDynamicRewrites)\n",
    "\t* [Examples Static Rewrites](#ExamplesStaticRewrites)\n",
    "\t* [Examples Dynamic Rewrites](#ExamplesDynamicRewrites)\n",
    "\t* [Rewrites and Operator Selection in Action](#RewritesandOperatorSelectioninAction)\n",
    "* [Fused Operators](#FusedOperators)\n",
    "* [Dynamic Recompilation](#DynamicRecompilation)\n",
    "\n",
    "\n",
    "# SystemML Compilation Chain <a id=\"SystemMLCompilationChain\"></a>\n",
    "\n",
    "![SystemML Compilation Chain](images/Compilation-Chain1.png)"
   ]
  },
  {
   "cell_type": "markdown",
   "metadata": {},
   "source": [
    "### Install Python interface for Graphviz"
   ]
  },
  {
   "cell_type": "code",
   "execution_count": null,
   "metadata": {},
   "outputs": [],
   "source": [
    "!pip install graphviz"
   ]
  },
  {
   "cell_type": "code",
   "execution_count": null,
   "metadata": {},
   "outputs": [],
   "source": [
    "!pip show graphviz"
   ]
  },
  {
   "cell_type": "code",
   "execution_count": 1,
   "metadata": {},
   "outputs": [
    {
     "name": "stdout",
     "output_type": "stream",
     "text": [
      "SystemML Version: 1.0.0-SNAPSHOT\n",
      "SystemML Built-Time: 2017-08-14 01:28:05 UTC\n"
     ]
    }
   ],
   "source": [
    "from systemml import MLContext, dml, getHopDAG, dmlFromResource, dmlFromUrl\n",
    "from graphviz import Source\n",
    "ml = MLContext(sc)\n",
    "\n",
    "print \"SystemML Version:\", ml.version()\n",
    "print \"SystemML Built-Time:\", ml.buildTime()"
   ]
  },
  {
   "cell_type": "markdown",
   "metadata": {},
   "source": [
    "# Basic HOP DAG Compilation <a id=\"BasicHOPDAGCompilation\"></a>\n",
    "\n",
    "Shape of the node (HOP's ExecType):\n",
    "- CP: Ellipse\n",
    "- SPARK: Box\n",
    "- GPU: Trapezium\n",
    "- MR: Parallelogram\n",
    "\n",
    "Color of the node:\n",
    "- Persistent/Transient Write/Read: Wheat\n",
    "- AggBinaryOp: Orange\n",
    "- BinaryOp: Blue\n",
    "- ReorgOp: Green\n",
    "- UnaryOp: Yellow\n",
    "\n",
    "Hover over the node to find more details about the HOP (such as dimensions, number of non-zeros and memory estimates)."
   ]
  },
  {
   "cell_type": "code",
   "execution_count": null,
   "metadata": {},
   "outputs": [],
   "source": [
    "prog = \"\"\"\n",
    "m = 10000; n = 3000; k = 500\n",
    "X = matrix(seq(1, m*n), rows=m, cols=n)   # matrix constructor\n",
    "Y = matrix(seq(n*k, 1), rows=n, cols=k)   # matrix constructor\n",
    "Z = t(X %*% Y)                            # matrix multiplication followed by a transpose\n",
    "\"\"\"\n",
    "Source(getHopDAG(ml, dml(prog).output(\"Z\")))"
   ]
  },
  {
   "cell_type": "markdown",
   "metadata": {
    "collapsed": true
   },
   "source": [
    "# Static and Dynamic Rewrites <a id=\"StaticandDynamicRewrites\"></a>\n",
    "\n",
    "- Static: size-independent rewrites\n",
    "- Dynamic: size-dependent rewrites\n",
    "\n",
    "## Examples Static Rewrites <a id=\"ExamplesStaticRewrites\"></a>\n",
    "\n",
    "- Common Subexpression Elimination\n",
    "- Constant Folding\n",
    "- Static Algebraic Simplification Rewrites\n",
    "- Branch Removal\n",
    "- Checkpoint injection (caching)\n",
    "- Repartition injection\n",
    "\n",
    "### Example Static Simplification Rewrites (size-independent patterns)\n",
    "\n",
    "Simplify Operation over Matrix Multiplication: \n",
    "```\n",
    "trace(X%*%Y) -> sum(X*t(Y))\n",
    "```"
   ]
  },
  {
   "cell_type": "code",
   "execution_count": null,
   "metadata": {},
   "outputs": [],
   "source": [
    "prog = \"\"\"\n",
    "m = 100000; n = 6000; k = 50000\n",
    "X = rand(rows=m, cols=n)         # generate random matrix: X\n",
    "Y = rand(rows=n, cols=k)         # generate random matrix: Y\n",
    "Z = trace(X %*% Y)               # compute trace of X %*% Y\n",
    "\"\"\"\n",
    "Source(getHopDAG(ml, dml(prog).output(\"Z\")))"
   ]
  },
  {
   "cell_type": "markdown",
   "metadata": {},
   "source": [
    "The HOP DAG for the same script without rewrites:"
   ]
  },
  {
   "cell_type": "code",
   "execution_count": null,
   "metadata": {},
   "outputs": [],
   "source": [
    "Source(getHopDAG(ml, dml(prog).output(\"Z\"), apply_rewrites=False))"
   ]
  },
  {
   "cell_type": "markdown",
   "metadata": {},
   "source": [
    "##  Examples Dynamic Rewrites <a id=\"ExamplesDynamicRewrites\"></a>\n",
    "\n",
    "- Dynamic Algebraic Simplification Rewrites\n",
    "- Matrix Multiplication Chain Optimization\n",
    "\n",
    "\n",
    "### Example Dynamic Simplification Rewrites (size-dependent patterns)\n",
    "\n",
    "```\n",
    "diag(X)%*%Y -> Y*X        iff ncol(X)=1 and ncol(Y)>1\n",
    "```"
   ]
  },
  {
   "cell_type": "code",
   "execution_count": null,
   "metadata": {},
   "outputs": [],
   "source": [
    "prog = \"\"\"\n",
    "m = 10000; k = 50000\n",
    "X = rand(rows=m, cols=1)         # generate random vector: X\n",
    "Y = rand(rows=m, cols=k)         # generate random matrix: Y\n",
    "Z = diag(X) %*% Y                # construct diagonal of vector X and multiply it by Y\n",
    "\"\"\"\n",
    "Source(getHopDAG(ml, dml(prog).output(\"Z\")))"
   ]
  },
  {
   "cell_type": "markdown",
   "metadata": {},
   "source": [
    "The HOP DAG for the same script without rewrites:"
   ]
  },
  {
   "cell_type": "code",
   "execution_count": null,
   "metadata": {},
   "outputs": [],
   "source": [
    "Source(getHopDAG(ml, dml(prog).output(\"Z\"), apply_rewrites=False))"
   ]
  },
  {
   "cell_type": "markdown",
   "metadata": {},
   "source": [
    "###  Matrix Multiplication Chain Optimization\n",
    "\n",
    "![Matrix Multiplication Chain Optimization](images/MMChainOptimization1.png)\n",
    "\n",
    "<span style=\"color:red\">**Exercise:**</span> What's happening as we change dimensions of M1, M2, M3, M4 and M5 ?"
   ]
  },
  {
   "cell_type": "code",
   "execution_count": null,
   "metadata": {},
   "outputs": [],
   "source": [
    "prog = \"\"\"\n",
    "dim1 = 1000; dim2 = 1000; dim3 = 1000; dim4 = 1\n",
    "M1 = rand(rows=dim1, cols=dim2)                         # generate random matrix M1\n",
    "M2 = matrix(seq(1,dim2*dim3), rows=dim2, cols=dim3)     # generate matrix M2\n",
    "M3 = matrix(seq(dim3*dim4, 1), rows=dim3, cols=dim4)    # generate matrix M3\n",
    "Z = (M1 %*% M2) %*% M3                                  # multiply matrix M1, M2 and M3\n",
    "\n",
    "# Exercise:\n",
    "# dim5 = 100; dim6 = 500;\n",
    "# M4 = rand(rows=dim4, cols=dim5)\n",
    "# M5 = matrix(1, rows=dim5, cols=dim6)\n",
    "# Z = M1 %*% M2 %*% M3 %*% M4 %*% M5\n",
    "\"\"\"\n",
    "Source(getHopDAG(ml, dml(prog).output(\"Z\")))"
   ]
  },
  {
   "cell_type": "markdown",
   "metadata": {},
   "source": [
    "The HOP DAG for the same script without rewrites:"
   ]
  },
  {
   "cell_type": "code",
   "execution_count": null,
   "metadata": {},
   "outputs": [],
   "source": [
    "Source(getHopDAG(ml, dml(prog).output(\"Z\"), apply_rewrites=False))"
   ]
  },
  {
   "cell_type": "markdown",
   "metadata": {},
   "source": [
    "## Rewrites and Operator Selection in Action <a id=\"RewritesandOperatorSelectioninAction\"></a>\t\n",
    "\n",
    "Example: Use case Multi Logistic Regression, X: [10^8 x 10^3], K=1 (2 classes), 2GB mem\n",
    "\n",
    "Please see [MultiLogReg.dml](https://github.com/apache/systemml/blob/master/scripts/algorithms/MultiLogReg.dml#L207-L208) for entire DML code.\n",
    "\n",
    "- Original DML snippet of inner loop:\n",
    "\n",
    "```\n",
    "Q = P [, 1:K] * (X %*% ssX_V);\n",
    "HV = t(X) %*% (Q - P [, 1:K] * (rowSums (Q) %*% matrix (1, rows = 1, cols = K)));\n",
    "```"
   ]
  },
  {
   "cell_type": "code",
   "execution_count": null,
   "metadata": {},
   "outputs": [],
   "source": [
    "# Get HOP DAG for Multi Logistic Regression (line: 207, 208)\n",
    "# script = dmlFromUrl(\"https://raw.githubusercontent.com/apache/systemml/master/scripts/algorithms/MultiLogReg.dml\")\n",
    "script = dmlFromResource(\"scripts/algorithms/MultiLogReg.dml\")\n",
    "print('\\n'.join(script.getScriptString().split('\\n')[206:208]))"
   ]
  },
  {
   "cell_type": "markdown",
   "metadata": {},
   "source": [
    "### Applied Rewrites\n",
    "\n",
    "- After remove unnecessary (1) matrix multiply (2) unary aggregate: `rowSums(Q) %*% matrix(1, rows=1, cols=K)) -> Q`\n",
    "\n",
    "```\n",
    "Q = P[, 1:K] * (X %*% ssX_V);\n",
    "HV = t(X) %*% (Q - P[, 1:K] * Q);\n",
    "```\n",
    "\n",
    "- After simplify distributive binary operation: `(Q - P[, 1:K] * Q) -> ((1 - P[, 1:K]) * Q)`\n",
    "\n",
    "```\n",
    "Q = P[, 1:K] * (X %*% ssX_V);\n",
    "HV = t(X) %*% ((1 - P[, 1:K]) * Q);\n",
    "```\n",
    "\n",
    "- After simplify bushy binary operation: Expand `Q` in the second line and simplify.\n",
    "\n",
    "```\n",
    "HV = t(X) %*% (((1 - P[, 1:K]) * P[, 1:K]) * (X %*% ssX_V));\n",
    "```\n",
    "\n",
    "Additionally, after fusing binary dag to unary operation (sample proportion), we can compile an MapMMChain Lop (not shown in the below figure) where `w = P[, 1:K]`."
   ]
  },
  {
   "cell_type": "code",
   "execution_count": null,
   "metadata": {},
   "outputs": [],
   "source": [
    "# Generate data for running Multi Logistic Regression\n",
    "dataGenScript = \"\"\"\n",
    "X = rand(rows=10^8, cols=10^3)                # generate random feature matrix X \n",
    "Y_vec = rand(rows=10^8, cols=1) > 0           # generate random label vector Y_vec\n",
    "\"\"\"\n",
    "X, Y_vec = ml.execute(dml(dataGenScript).output(\"X\", \"Y_vec\")).get(\"X\", \"Y_vec\")\n",
    "\n",
    "script.input(X=X, Y_vec=Y_vec).output(\"B_out\")\n",
    "script.input(\"$X\", \" \").input(\"$Y\", \" \").input(\"$B\", \" \")\n",
    "from pyspark.conf import SparkConf\n",
    "conf = SparkConf().set(\"spark.driver.memory\", \"20g\").set(\"spark.executor.memory\", \"20g\")\n",
    "Source(getHopDAG(MLContext(sc), script, conf=conf, lines=[209, 210]))"
   ]
  },
  {
   "cell_type": "markdown",
   "metadata": {
    "collapsed": true
   },
   "source": [
    "# Fused Operators <a id=\"FusedOperators\"></a>\t\n",
    "\n",
    "![Fused WS Loss Operator](images/FusedOpWSLoss.png)\n",
    "\n",
    "# Dynamic Recompilation <a id=\"DynamicRecompilation\"></a>\t\n",
    "\n",
    "The above techniques work very well if we can infer intermediate sizes and sparsity, which\n",
    "is true for simple iterative algorithms where the training data is accessed read-only and thus all important\n",
    "operations are known. For other types of programs, the sizes or sparsity of intermediates may be unknown\n",
    "during initial compilation. We use dynamic recompilation as our robust fallback strategy for these cases.\n",
    "\n",
    "**Example ML Program Scenarios**:\n",
    "- Scripts with complex function call patterns\n",
    "- Scripts with UDFs\n",
    "- Data-dependent operators\n",
    "- Computed size expressions\n",
    "- Changing dimensions or sparsity"
   ]
  },
  {
   "cell_type": "code",
   "execution_count": null,
   "metadata": {},
   "outputs": [],
   "source": [
    "prog = \"\"\"\n",
    "X = rand(rows=100000, cols=100)      # generate random matrix X\n",
    "Y = rand(rows=100000, cols=1)        # generate random vector Y\n",
    "Y = table( seq(1,nrow(X)), Y )       # perform data-dependent operation: table\n",
    "grad = t(X) %*% Y                    # transpose X and multiply it with Y\n",
    "\"\"\"\n",
    "Source(getHopDAG(ml, dml(prog).output(\"grad\"), with_subgraph=True))"
   ]
  },
  {
   "cell_type": "code",
   "execution_count": null,
   "metadata": {
    "collapsed": true
   },
   "outputs": [],
   "source": []
  }
 ],
 "metadata": {
  "kernelspec": {
   "display_name": "Python 3",
   "language": "python",
   "name": "python3"
  },
  "language_info": {
   "codemirror_mode": {
    "name": "ipython",
    "version": 3
   },
   "file_extension": ".py",
   "mimetype": "text/x-python",
   "name": "python",
   "nbconvert_exporter": "python",
   "pygments_lexer": "ipython3",
   "version": "3.8.2"
  }
 },
 "nbformat": 4,
 "nbformat_minor": 1
}
